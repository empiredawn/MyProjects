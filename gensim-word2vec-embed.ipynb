{
 "cells": [
  {
   "cell_type": "code",
   "execution_count": 55,
   "metadata": {
    "collapsed": false
   },
   "outputs": [
    {
     "name": "stdout",
     "output_type": "stream",
     "text": [
      "(7395, 27)\n"
     ]
    }
   ],
   "source": [
    "import numpy as np\n",
    "import pandas as pd\n",
    "dataset = pd.read_csv('train.csv')\n",
    "print(dataset.shape)"
   ]
  },
  {
   "cell_type": "code",
   "execution_count": 56,
   "metadata": {
    "collapsed": true
   },
   "outputs": [],
   "source": [
    "# we want only the data with the text and the labels...all numerical vars are ignored for now\n",
    "\n",
    "datasetX = dataset.loc[:, ['boilerplate']]"
   ]
  },
  {
   "cell_type": "code",
   "execution_count": 57,
   "metadata": {
    "collapsed": false
   },
   "outputs": [
    {
     "name": "stdout",
     "output_type": "stream",
     "text": [
      "0    { title : IBM Sees Holographic Calls Air Breat...\n",
      "1    { title : The Fully Electronic Futuristic Star...\n",
      "2    { title : Fruits that Fight the Flu fruits tha...\n",
      "3    { title : 10 Foolproof Tips for Better Sleep  ...\n",
      "4    { title : The 50 Coolest Jerseys You Didn t Kn...\n",
      "Name: boilerplate, dtype: object\n"
     ]
    }
   ],
   "source": [
    "datasetX = datasetX['boilerplate'].str.replace('\"',' ')\n",
    "print(datasetX.head())"
   ]
  },
  {
   "cell_type": "code",
   "execution_count": 58,
   "metadata": {
    "collapsed": true
   },
   "outputs": [],
   "source": [
    "datasetY = dataset.loc[:, ['label']]"
   ]
  },
  {
   "cell_type": "code",
   "execution_count": 59,
   "metadata": {
    "collapsed": false
   },
   "outputs": [
    {
     "name": "stdout",
     "output_type": "stream",
     "text": [
      "   label\n",
      "0      0\n",
      "1      1\n",
      "2      1\n",
      "3      1\n",
      "4      0\n"
     ]
    }
   ],
   "source": [
    "print(datasetY.head())"
   ]
  },
  {
   "cell_type": "code",
   "execution_count": 60,
   "metadata": {
    "collapsed": true
   },
   "outputs": [],
   "source": [
    "datasetX_array = np.array(datasetX)"
   ]
  },
  {
   "cell_type": "code",
   "execution_count": 61,
   "metadata": {
    "collapsed": true
   },
   "outputs": [],
   "source": [
    "datasetX_tokens = []\n",
    "for line in datasetX:\n",
    "    tokens = line.split()\n",
    "    datasetX_tokens.append(tokens)"
   ]
  },
  {
   "cell_type": "code",
   "execution_count": 62,
   "metadata": {
    "collapsed": true
   },
   "outputs": [],
   "source": [
    "import matplotlib.pyplot as plt\n",
    "import seaborn as sns\n",
    "import pandas as pd\n",
    "import numpy as np\n",
    "from gensim.models.word2vec import Word2Vec\n",
    "from collections import Counter, defaultdict\n",
    "from sklearn.feature_extraction.text import CountVectorizer\n",
    "from sklearn.feature_extraction.text import TfidfVectorizer\n",
    "from sklearn.ensemble import ExtraTreesClassifier\n",
    "from sklearn.naive_bayes import BernoulliNB, MultinomialNB\n",
    "from sklearn.pipeline import Pipeline\n",
    "from sklearn.svm import SVC\n",
    "from sklearn.metrics import accuracy_score\n",
    "from sklearn.cross_validation import cross_val_score\n",
    "from sklearn.cross_validation import StratifiedShuffleSplit"
   ]
  },
  {
   "cell_type": "code",
   "execution_count": 63,
   "metadata": {
    "collapsed": true
   },
   "outputs": [],
   "source": [
    "model = Word2Vec(datasetX_tokens, size=100, window=5, min_count=5, workers=2)"
   ]
  },
  {
   "cell_type": "code",
   "execution_count": 64,
   "metadata": {
    "collapsed": true
   },
   "outputs": [],
   "source": [
    "w2v = {w: vec for w, vec in zip(model.wv.index2word, model.wv.syn0)}"
   ]
  },
  {
   "cell_type": "code",
   "execution_count": 65,
   "metadata": {
    "collapsed": true
   },
   "outputs": [],
   "source": [
    "from sklearn.model_selection import train_test_split\n",
    "X_train, X_test, y_train, y_test = train_test_split(datasetX_tokens, datasetY, test_size=0.20, random_state=42)"
   ]
  },
  {
   "cell_type": "code",
   "execution_count": 66,
   "metadata": {
    "collapsed": false
   },
   "outputs": [
    {
     "data": {
      "text/plain": [
       "array([1, 1, 1, ..., 1, 1, 1])"
      ]
     },
     "execution_count": 66,
     "metadata": {},
     "output_type": "execute_result"
    }
   ],
   "source": [
    "y_test = np.array(y_test)\n",
    "y_test = y_test.ravel()\n",
    "y_test"
   ]
  },
  {
   "cell_type": "code",
   "execution_count": 67,
   "metadata": {
    "collapsed": false
   },
   "outputs": [
    {
     "data": {
      "text/plain": [
       "array([0, 1, 0, ..., 1, 1, 0])"
      ]
     },
     "execution_count": 67,
     "metadata": {},
     "output_type": "execute_result"
    }
   ],
   "source": [
    "y_train = np.array(y_train)\n",
    "y_train = y_train.ravel()\n",
    "y_train"
   ]
  },
  {
   "cell_type": "code",
   "execution_count": 68,
   "metadata": {
    "collapsed": true
   },
   "outputs": [],
   "source": [
    "X_train = np.array(X_train)\n",
    "X_test = np.array(X_test)"
   ]
  },
  {
   "cell_type": "code",
   "execution_count": 69,
   "metadata": {
    "collapsed": true
   },
   "outputs": [],
   "source": [
    "vocab = list(model.wv.vocab)\n",
    "vocab_set = set(vocab)"
   ]
  },
  {
   "cell_type": "code",
   "execution_count": 70,
   "metadata": {
    "collapsed": true
   },
   "outputs": [],
   "source": [
    "sum_array = 0\n",
    "counter = 0\n",
    "final_list = []\n",
    "for i in range(0,len(X_train[1]),1):\n",
    "    if X_train[1][i] in vocab:\n",
    "        sum_array += model.wv[X_train[1][i]]\n",
    "        counter += 1\n",
    "\n",
    "final_list.append(list(sum_array/counter))"
   ]
  },
  {
   "cell_type": "code",
   "execution_count": 71,
   "metadata": {
    "collapsed": true
   },
   "outputs": [],
   "source": [
    "import datetime"
   ]
  },
  {
   "cell_type": "code",
   "execution_count": 72,
   "metadata": {
    "collapsed": true
   },
   "outputs": [],
   "source": [
    "from datetime import datetime\n",
    "start_time = datetime.now()"
   ]
  },
  {
   "cell_type": "code",
   "execution_count": 73,
   "metadata": {
    "collapsed": false
   },
   "outputs": [
    {
     "name": "stdout",
     "output_type": "stream",
     "text": [
      "Duration: 0:00:02.816145\n"
     ]
    }
   ],
   "source": [
    "start_time = datetime.now()\n",
    "final_list2 = []\n",
    "for k in range(0,len(X_test),1):\n",
    "    sum_array = 0\n",
    "    counter = 0\n",
    "    for i in range(0,len(X_test[k]),1):\n",
    "        if X_test[k][i] in vocab_set:\n",
    "            sum_array += model.wv[X_test[k][i]]\n",
    "            counter += 1\n",
    "\n",
    "    final_list2.append(list(sum_array/counter))\n",
    "end_time = datetime.now()\n",
    "print('Duration: {}'.format(end_time - start_time))"
   ]
  },
  {
   "cell_type": "code",
   "execution_count": 74,
   "metadata": {
    "collapsed": true
   },
   "outputs": [],
   "source": [
    "y_train_test = y_train"
   ]
  },
  {
   "cell_type": "code",
   "execution_count": 75,
   "metadata": {
    "collapsed": true
   },
   "outputs": [],
   "source": [
    "final_list2_array = np.array(final_list2)"
   ]
  },
  {
   "cell_type": "code",
   "execution_count": 76,
   "metadata": {
    "collapsed": true
   },
   "outputs": [],
   "source": [
    "y_test_test = y_test"
   ]
  },
  {
   "cell_type": "code",
   "execution_count": 77,
   "metadata": {
    "collapsed": true
   },
   "outputs": [],
   "source": [
    "from sklearn.ensemble import RandomForestClassifier"
   ]
  },
  {
   "cell_type": "code",
   "execution_count": 78,
   "metadata": {
    "collapsed": true
   },
   "outputs": [],
   "source": [
    "from sklearn import metrics"
   ]
  },
  {
   "cell_type": "code",
   "execution_count": 79,
   "metadata": {
    "collapsed": false
   },
   "outputs": [
    {
     "name": "stdout",
     "output_type": "stream",
     "text": [
      "Duration: 0:00:11.347619\n"
     ]
    }
   ],
   "source": [
    "start_time = datetime.now()\n",
    "final_list = []\n",
    "for k in range(0,len(X_train),1):\n",
    "    sum_array = 0\n",
    "    counter = 0\n",
    "    for i in range(0,len(X_train[k]),1):\n",
    "        if X_train[k][i] in vocab_set:\n",
    "            sum_array += model.wv[X_train[k][i]]\n",
    "            counter += 1\n",
    "\n",
    "    final_list.append(list(sum_array/counter))\n",
    "end_time = datetime.now()\n",
    "print('Duration: {}'.format(end_time - start_time))"
   ]
  },
  {
   "cell_type": "code",
   "execution_count": 80,
   "metadata": {
    "collapsed": true
   },
   "outputs": [],
   "source": [
    "final_list_array = np.array(final_list)"
   ]
  },
  {
   "cell_type": "code",
   "execution_count": 81,
   "metadata": {
    "collapsed": false
   },
   "outputs": [
    {
     "name": "stdout",
     "output_type": "stream",
     "text": [
      "0.774171737661\n",
      "0.848029335918\n"
     ]
    }
   ],
   "source": [
    "forest = RandomForestClassifier(n_estimators=10)\n",
    "forest.fit(final_list_array, y_train_test)\n",
    "y_pred = forest.predict(final_list2_array)\n",
    "print(metrics.accuracy_score(y_test_test, y_pred))\n",
    "y_pred2 = forest.predict_proba(final_list2_array)\n",
    "y_pred2 = y_pred2[:,1]\n",
    "print(metrics.roc_auc_score(y_test_test, y_pred2))"
   ]
  },
  {
   "cell_type": "code",
   "execution_count": 82,
   "metadata": {
    "collapsed": true
   },
   "outputs": [],
   "source": [
    "# now we are ready to run models on the vectorized text data, lets import everything we will need\n",
    "from sklearn.neighbors import KNeighborsClassifier\n",
    "from sklearn import metrics\n",
    "from sklearn.linear_model import LogisticRegression\n",
    "from sklearn import svm\n",
    "from sklearn.linear_model import SGDClassifier\n",
    "from sklearn import tree\n",
    "from sklearn.ensemble import BaggingClassifier\n",
    "from sklearn.ensemble import RandomForestClassifier\n",
    "from sklearn.neural_network import MLPClassifier\n",
    "from sklearn.naive_bayes import GaussianNB"
   ]
  },
  {
   "cell_type": "code",
   "execution_count": 83,
   "metadata": {
    "collapsed": false
   },
   "outputs": [
    {
     "name": "stdout",
     "output_type": "stream",
     "text": [
      "0.811359026369\n",
      "0.868711706933\n"
     ]
    }
   ],
   "source": [
    "# logistic regression\n",
    "\n",
    "logreg = LogisticRegression()\n",
    "\n",
    "logreg.fit(final_list_array, y_train_test)\n",
    "y_pred = logreg.predict(final_list2_array)\n",
    "print(metrics.accuracy_score(y_test_test, y_pred))\n",
    "y_pred2 = logreg.predict_proba(final_list2_array)\n",
    "y_pred2 = y_pred2[:,1]\n",
    "print(metrics.roc_auc_score(y_test_test, y_pred2))"
   ]
  },
  {
   "cell_type": "code",
   "execution_count": 84,
   "metadata": {
    "collapsed": false
   },
   "outputs": [
    {
     "name": "stdout",
     "output_type": "stream",
     "text": [
      "0.754563894523\n",
      "0.803485926441\n"
     ]
    }
   ],
   "source": [
    "from sklearn.naive_bayes import BernoulliNB\n",
    "nb = BernoulliNB()\n",
    "nbcl = nb.fit(final_list_array, y_train_test)\n",
    "y_pred = nbcl.predict(final_list2_array)\n",
    "print(metrics.accuracy_score(y_test_test, y_pred))\n",
    "y_pred2 = nbcl.predict_proba(final_list2_array)\n",
    "y_pred2 = y_pred2[:,1]\n",
    "print(metrics.roc_auc_score(y_test_test, y_pred2))"
   ]
  },
  {
   "cell_type": "code",
   "execution_count": 85,
   "metadata": {
    "collapsed": true
   },
   "outputs": [],
   "source": [
    "knn3 = KNeighborsClassifier(n_neighbors=3, algorithm='brute')"
   ]
  },
  {
   "cell_type": "code",
   "execution_count": 86,
   "metadata": {
    "collapsed": false
   },
   "outputs": [
    {
     "name": "stdout",
     "output_type": "stream",
     "text": [
      "0.775524002705\n",
      "0.821703824277\n"
     ]
    }
   ],
   "source": [
    "knn3.fit(final_list_array, y_train_test)\n",
    "y_pred = knn3.predict(final_list2_array)\n",
    "print(metrics.accuracy_score(y_test_test, y_pred))\n",
    "y_pred2 = knn3.predict_proba(final_list2_array)\n",
    "y_pred2 = y_pred2[:,1]\n",
    "print(metrics.roc_auc_score(y_test_test, y_pred2))"
   ]
  },
  {
   "cell_type": "code",
   "execution_count": 41,
   "metadata": {
    "collapsed": false
   },
   "outputs": [
    {
     "name": "stdout",
     "output_type": "stream",
     "text": [
      "0.799864773496\n",
      "0.87106095799\n"
     ]
    }
   ],
   "source": [
    "# SVM classifier\n",
    "\n",
    "clf = svm.SVC(probability=True)\n",
    "\n",
    "clf.fit(final_list_array, y_train_test)\n",
    "y_pred = clf.predict(final_list2_array)\n",
    "print(metrics.accuracy_score(y_test_test, y_pred))\n",
    "y_pred2 = clf.predict_proba(final_list2_array)\n",
    "y_pred2 = y_pred2[:,1]\n",
    "print(metrics.roc_auc_score(y_test_test, y_pred2))"
   ]
  },
  {
   "cell_type": "code",
   "execution_count": 87,
   "metadata": {
    "collapsed": false
   },
   "outputs": [
    {
     "name": "stdout",
     "output_type": "stream",
     "text": [
      "Done.\n",
      "400000\n",
      "words loaded!\n"
     ]
    }
   ],
   "source": [
    "f = open(\"glove.6B.300d.txt\",'r')\n",
    "model = {}\n",
    "for line in f:\n",
    "    splitLine = line.split()\n",
    "    word = splitLine[0]\n",
    "    embedding = np.array([float(val) for val in splitLine[1:]])\n",
    "    model[word] = embedding\n",
    "print(\"Done.\")\n",
    "print(len(model))\n",
    "print(\"words loaded!\")"
   ]
  },
  {
   "cell_type": "code",
   "execution_count": 88,
   "metadata": {
    "collapsed": true
   },
   "outputs": [],
   "source": [
    "word2vec_list = list(model)\n",
    "word2vec_set = set(word2vec_list)"
   ]
  },
  {
   "cell_type": "code",
   "execution_count": 89,
   "metadata": {
    "collapsed": false
   },
   "outputs": [
    {
     "name": "stdout",
     "output_type": "stream",
     "text": [
      "Duration: 0:00:05.661691\n"
     ]
    }
   ],
   "source": [
    "start_time = datetime.now()\n",
    "final_listg = []\n",
    "for k in range(0,len(X_train),1):\n",
    "    sum_array = 0\n",
    "    counter = 0\n",
    "    for i in range(0,len(X_train[k]),1):\n",
    "        if X_train[k][i] in word2vec_set:\n",
    "            sum_array += model[X_train[k][i]]\n",
    "            counter += 1\n",
    "\n",
    "    final_listg.append(list(sum_array/counter))\n",
    "end_time = datetime.now()\n",
    "print('Duration: {}'.format(end_time - start_time))"
   ]
  },
  {
   "cell_type": "code",
   "execution_count": 90,
   "metadata": {
    "collapsed": true
   },
   "outputs": [],
   "source": [
    "final_list_array = np.array(final_listg)"
   ]
  },
  {
   "cell_type": "code",
   "execution_count": 91,
   "metadata": {
    "collapsed": false
   },
   "outputs": [
    {
     "name": "stdout",
     "output_type": "stream",
     "text": [
      "Duration: 0:00:01.446202\n"
     ]
    }
   ],
   "source": [
    "start_time = datetime.now()\n",
    "final_listg2 = []\n",
    "for k in range(0,len(X_test),1):\n",
    "    sum_array = 0\n",
    "    counter = 0\n",
    "    for i in range(0,len(X_test[k]),1):\n",
    "        if X_test[k][i] in word2vec_set:\n",
    "            sum_array += model[X_test[k][i]]\n",
    "            counter += 1\n",
    "\n",
    "    final_listg2.append(list(sum_array/counter))\n",
    "end_time = datetime.now()\n",
    "print('Duration: {}'.format(end_time - start_time))"
   ]
  },
  {
   "cell_type": "code",
   "execution_count": 92,
   "metadata": {
    "collapsed": true
   },
   "outputs": [],
   "source": [
    "final_list2_array = np.array(final_listg2)"
   ]
  },
  {
   "cell_type": "code",
   "execution_count": 93,
   "metadata": {
    "collapsed": false
   },
   "outputs": [
    {
     "name": "stdout",
     "output_type": "stream",
     "text": [
      "0.774847870183\n",
      "0.840211606343\n"
     ]
    }
   ],
   "source": [
    "forest = RandomForestClassifier(n_estimators=10)\n",
    "forest.fit(final_list_array, y_train_test)\n",
    "y_pred = forest.predict(final_list2_array)\n",
    "print(metrics.accuracy_score(y_test_test, y_pred))\n",
    "y_pred2 = forest.predict_proba(final_list2_array)\n",
    "y_pred2 = y_pred2[:,1]\n",
    "print(metrics.roc_auc_score(y_test_test, y_pred2))"
   ]
  },
  {
   "cell_type": "code",
   "execution_count": 100,
   "metadata": {
    "collapsed": false
   },
   "outputs": [
    {
     "name": "stdout",
     "output_type": "stream",
     "text": [
      "0.809330628803\n",
      "0.876878760722\n"
     ]
    }
   ],
   "source": [
    "# logistic regression\n",
    "\n",
    "logreg = LogisticRegression()\n",
    "\n",
    "logreg.fit(final_list_array, y_train_test)\n",
    "y_pred = logreg.predict(final_list2_array)\n",
    "print(metrics.accuracy_score(y_test_test, y_pred))\n",
    "y_pred2 = logreg.predict_proba(final_list2_array)\n",
    "y_pred2 = y_pred2[:,1]\n",
    "print(metrics.roc_auc_score(y_test_test, y_pred2))"
   ]
  },
  {
   "cell_type": "code",
   "execution_count": 95,
   "metadata": {
    "collapsed": false
   },
   "outputs": [
    {
     "name": "stdout",
     "output_type": "stream",
     "text": [
      "0.786342123056\n",
      "0.838913985771\n"
     ]
    }
   ],
   "source": [
    "nb = BernoulliNB()\n",
    "nbcl = nb.fit(final_list_array, y_train_test)\n",
    "y_pred = nbcl.predict(final_list2_array)\n",
    "print(metrics.accuracy_score(y_test_test, y_pred))\n",
    "y_pred2 = nbcl.predict_proba(final_list2_array)\n",
    "y_pred2 = y_pred2[:,1]\n",
    "print(metrics.roc_auc_score(y_test_test, y_pred2))"
   ]
  },
  {
   "cell_type": "code",
   "execution_count": 96,
   "metadata": {
    "collapsed": false
   },
   "outputs": [
    {
     "name": "stdout",
     "output_type": "stream",
     "text": [
      "0.774171737661\n",
      "0.822659436326\n"
     ]
    }
   ],
   "source": [
    "knn3.fit(final_list_array, y_train_test)\n",
    "y_pred = knn3.predict(final_list2_array)\n",
    "print(metrics.accuracy_score(y_test_test, y_pred))\n",
    "y_pred2 = knn3.predict_proba(final_list2_array)\n",
    "y_pred2 = y_pred2[:,1]\n",
    "print(metrics.roc_auc_score(y_test_test, y_pred2))"
   ]
  },
  {
   "cell_type": "code",
   "execution_count": 52,
   "metadata": {
    "collapsed": false
   },
   "outputs": [
    {
     "name": "stdout",
     "output_type": "stream",
     "text": [
      "0.778228532792\n",
      "0.866745615158\n"
     ]
    }
   ],
   "source": [
    "clf = svm.SVC(probability=True)\n",
    "\n",
    "clf.fit(final_list_array, y_train_test)\n",
    "y_pred = clf.predict(final_list2_array)\n",
    "print(metrics.accuracy_score(y_test_test, y_pred))\n",
    "y_pred2 = clf.predict_proba(final_list2_array)\n",
    "y_pred2 = y_pred2[:,1]\n",
    "print(metrics.roc_auc_score(y_test_test, y_pred2))"
   ]
  },
  {
   "cell_type": "code",
   "execution_count": 102,
   "metadata": {
    "collapsed": false
   },
   "outputs": [
    {
     "name": "stdout",
     "output_type": "stream",
     "text": [
      "0.876878760722\n"
     ]
    },
    {
     "data": {
      "image/png": "[encoded data removed]",
      "text/plain": [
       "<matplotlib.figure.Figure at 0x7fad90b216a0>"
      ]
     },
     "metadata": {},
     "output_type": "display_data"
    }
   ],
   "source": [
    "import matplotlib.pyplot as plt\n",
    "from sklearn.metrics import roc_curve, auc\n",
    "\n",
    "fpr, tpr, thresholds=roc_curve(y_test_test, y_pred2)\n",
    "fpr = dict()\n",
    "tpr = dict()\n",
    "roc_auc = dict()\n",
    "\n",
    "for i in range(2):\n",
    "    fpr[i], tpr[i], _ = roc_curve(y_test_test, y_pred2)\n",
    "    roc_auc[i] = auc(fpr[i], tpr[i])\n",
    "\n",
    "print(metrics.roc_auc_score(y_test_test, y_pred2))\n",
    "plt.figure()\n",
    "plt.plot(fpr[1], tpr[1],lw=2, label='ROC curve (area = %0.3f)' % roc_auc[1])\n",
    "plt.plot([0, 1], [0, 1], color='black', lw=1, linestyle='--')\n",
    "plt.xlim([0.0, 1.0])\n",
    "plt.ylim([0.0, 1.05])\n",
    "plt.xlabel('False Positive Rate')\n",
    "plt.ylabel('True Positive Rate')\n",
    "plt.title('Logistic Regression with GloVe - ROC Curve')\n",
    "plt.legend(loc=\"lower right\")\n",
    "plt.show()\n"
   ]
  },
  {
   "cell_type": "code",
   "execution_count": null,
   "metadata": {
    "collapsed": true
   },
   "outputs": [],
   "source": []
  }
 ],
 "metadata": {
  "kernelspec": {
   "display_name": "Python 3",
   "language": "python",
   "name": "python3"
  },
  "language_info": {
   "codemirror_mode": {
    "name": "ipython",
    "version": 3
   },
   "file_extension": ".py",
   "mimetype": "text/x-python",
   "name": "python",
   "nbconvert_exporter": "python",
   "pygments_lexer": "ipython3",
   "version": "3.6.0"
  }
 },
 "nbformat": 4,
 "nbformat_minor": 2
}
