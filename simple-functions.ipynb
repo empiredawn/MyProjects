{
 "cells": [
  {
   "cell_type": "code",
   "execution_count": 2,
   "metadata": {
    "collapsed": false
   },
   "outputs": [
    {
     "data": {
      "text/plain": [
       "['year,month,date_of_month,day_of_week,births',\n",
       " '1994,1,1,6,8096',\n",
       " '1994,1,2,7,7772',\n",
       " '1994,1,3,1,10142',\n",
       " '1994,1,4,2,11248',\n",
       " '1994,1,5,3,11053',\n",
       " '1994,1,6,4,11406',\n",
       " '1994,1,7,5,11251',\n",
       " '1994,1,8,6,8653',\n",
       " '1994,1,9,7,7910']"
      ]
     },
     "execution_count": 2,
     "metadata": {},
     "output_type": "execute_result"
    }
   ],
   "source": [
    "# opening dataset and exploring the first few rows\n",
    "csv_list = open(\"US_births_1994-2003_CDC_NCHS.csv\").read().split(\"\\n\")\n",
    "csv_list[0:10]"
   ]
  },
  {
   "cell_type": "code",
   "execution_count": 4,
   "metadata": {
    "collapsed": false
   },
   "outputs": [
    {
     "data": {
      "text/plain": [
       "[[1994, 1, 1, 6, 8096],\n",
       " [1994, 1, 2, 7, 7772],\n",
       " [1994, 1, 3, 1, 10142],\n",
       " [1994, 1, 4, 2, 11248],\n",
       " [1994, 1, 5, 3, 11053],\n",
       " [1994, 1, 6, 4, 11406],\n",
       " [1994, 1, 7, 5, 11251],\n",
       " [1994, 1, 8, 6, 8653],\n",
       " [1994, 1, 9, 7, 7910],\n",
       " [1994, 1, 10, 1, 10498]]"
      ]
     },
     "execution_count": 4,
     "metadata": {},
     "output_type": "execute_result"
    }
   ],
   "source": [
    "# Creating a function to convert the data into a list of vectors for each row of data\n",
    "def read_csv(filename):\n",
    "    string_data = open(filename).read()\n",
    "    string_list = string_data.split(\"\\n\")[1:]\n",
    "    final_list = []\n",
    "    \n",
    "    for row in string_list:\n",
    "        string_fields = row.split(\",\")\n",
    "        int_fields = []\n",
    "        for value in string_fields:\n",
    "            int_fields.append(int(value))\n",
    "        final_list.append(int_fields)\n",
    "    return(final_list)\n",
    "\n",
    "cdc_list = read_csv(\"US_births_1994-2003_CDC_NCHS.csv\")\n",
    "cdc_list[0:10]"
   ]
  },
  {
   "cell_type": "code",
   "execution_count": 8,
   "metadata": {
    "collapsed": false
   },
   "outputs": [
    {
     "data": {
      "text/plain": [
       "{1: 3232517,\n",
       " 2: 3018140,\n",
       " 3: 3322069,\n",
       " 4: 3185314,\n",
       " 5: 3350907,\n",
       " 6: 3296530,\n",
       " 7: 3498783,\n",
       " 8: 3525858,\n",
       " 9: 3439698,\n",
       " 10: 3378814,\n",
       " 11: 3171647,\n",
       " 12: 3301860}"
      ]
     },
     "execution_count": 8,
     "metadata": {},
     "output_type": "execute_result"
    }
   ],
   "source": [
    "# Creating a function that creates a dictionary which adds up all the births for each month\n",
    "def month_births(data):\n",
    "    births_per_month = {}\n",
    "    \n",
    "    for row in data:\n",
    "        month = row[1]\n",
    "        births = row[4]\n",
    "        if month in births_per_month:\n",
    "            births_per_month[month] = births_per_month[month] + births\n",
    "        else:\n",
    "            births_per_month[month] = births\n",
    "            \n",
    "    return(births_per_month)\n",
    "\n",
    "cdc_month_births = month_births(cdc_list)\n",
    "cdc_month_births"
   ]
  },
  {
   "cell_type": "code",
   "execution_count": 38,
   "metadata": {
    "collapsed": false
   },
   "outputs": [
    {
     "data": {
      "text/plain": [
       "{1: 568672, 2: 630819, 3: 619209, 4: 615942, 5: 614641, 6: 474732, 7: 428752}"
      ]
     },
     "execution_count": 38,
     "metadata": {},
     "output_type": "execute_result"
    }
   ],
   "source": [
    "# Creating a function that creates a dictionary that adds up all the births for every day of the week\n",
    "def dow_births(data, year):\n",
    "    births_per_dayofweek = {}\n",
    "    \n",
    "    for row in data:\n",
    "        dayofweek = row[3]\n",
    "        births = row[4]\n",
    "        year1 = row[0]\n",
    "        if year == year1:\n",
    "            if dayofweek in births_per_dayofweek:\n",
    "                births_per_dayofweek[dayofweek] = births_per_dayofweek[dayofweek] + births\n",
    "            else:\n",
    "                births_per_dayofweek[dayofweek] = births\n",
    "         \n",
    "    return(births_per_dayofweek)\n",
    "\n",
    "cdc_day_births = dow_births(cdc_list, 1994)\n",
    "cdc_day_births"
   ]
  },
  {
   "cell_type": "code",
   "execution_count": 36,
   "metadata": {
    "collapsed": false
   },
   "outputs": [
    {
     "name": "stdout",
     "output_type": "stream",
     "text": [
      "the max value happens on day 7 and it is 4079723\n"
     ]
    }
   ],
   "source": [
    "# Create a more generalized function that can take any of the columns of data in the dataset and return a dictionary of for all available values (day of month, day of week, etc.) \n",
    "def calc_counts(data, column):\n",
    "    births_per_column = {}\n",
    "    \n",
    "    for row in data:\n",
    "        column1 = row[column]\n",
    "        births = row[4]\n",
    "        if column1 in births_per_column:\n",
    "            births_per_column[column1] = births_per_column[column1] + births\n",
    "        else:\n",
    "            births_per_column[column1] = births\n",
    "    return(births_per_column)\n",
    "\n",
    "cdc_year_births = calc_counts(cdc_list, 0)\n",
    "cdc_year_births\n",
    "cdc_month_births = calc_counts(cdc_list, 1)\n",
    "cdc_month_births\n",
    "cdc_dom_births = calc_counts(cdc_list, 2)\n",
    "cdc_dom_births\n",
    "cdc_dow_births = calc_counts(cdc_list, 3)\n",
    "cdc_dow_births\n",
    "cdc_dom_births\n",
    "print (\"the max value happens on day\", max(cdc_dow_births), \"and it is\", cdc_dow_births.get(max(cdc_dow_births)))\n"
   ]
  },
  {
   "cell_type": "code",
   "execution_count": null,
   "metadata": {
    "collapsed": true
   },
   "outputs": [],
   "source": []
  }
 ],
 "metadata": {
  "anaconda-cloud": {},
  "kernelspec": {
   "display_name": "Python 3",
   "language": "python",
   "name": "python3"
  },
  "language_info": {
   "codemirror_mode": {
    "name": "ipython",
    "version": 3
   },
   "file_extension": ".py",
   "mimetype": "text/x-python",
   "name": "python",
   "nbconvert_exporter": "python",
   "pygments_lexer": "ipython3",
   "version": "3.4.3"
  }
 },
 "nbformat": 4,
 "nbformat_minor": 1
}
