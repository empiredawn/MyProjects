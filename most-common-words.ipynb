{
 "cells": [
  {
   "cell_type": "code",
   "execution_count": null,
   "metadata": {
    "collapsed": true
   },
   "outputs": [],
   "source": [
    "# this is a script to take in a dataset and find the top 100 most common words\n",
    "import pandas as pd\n",
    "import collections\n",
    "df = pd.read_csv(\"hn_stories.csv\")\n",
    "df.columns = [\"submission_time\", \"upvotes\", \"url\", \"headline\"]\n",
    "\n",
    "# this adds all the headlines for each row into a string object\n",
    "s = \"\"\n",
    "for i in df['headline']:\n",
    "    s += str(i)\n",
    "    \n",
    "# we lower case all words, and we split all the sentences into individual words\n",
    "s_lower = s.lower()\n",
    "s_split = s_lower.split()\n",
    "\n",
    "# We count all the words and print out the top 100 most common\n",
    "c = collections.Counter(s_split)\n",
    "print(c.most_common(100))"
   ]
  }
 ],
 "metadata": {
  "kernelspec": {
   "display_name": "Python 3",
   "language": "python",
   "name": "python3"
  },
  "language_info": {
   "codemirror_mode": {
    "name": "ipython",
    "version": 3
   },
   "file_extension": ".py",
   "mimetype": "text/x-python",
   "name": "python",
   "nbconvert_exporter": "python",
   "pygments_lexer": "ipython3",
   "version": "3.6.0"
  }
 },
 "nbformat": 4,
 "nbformat_minor": 2
}
