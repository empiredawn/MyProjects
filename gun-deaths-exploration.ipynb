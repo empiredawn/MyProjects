{
 "cells": [
  {
   "cell_type": "code",
   "execution_count": 4,
   "metadata": {
    "collapsed": false
   },
   "outputs": [
    {
     "name": "stdout",
     "output_type": "stream",
     "text": [
      "[['', 'year', 'month', 'intent', 'police', 'sex', 'age', 'race', 'hispanic', 'place', 'education'], ['1', '2012', '01', 'Suicide', '0', 'M', '34', 'Asian/Pacific Islander', '100', 'Home', '4'], ['2', '2012', '01', 'Suicide', '0', 'F', '21', 'White', '100', 'Street', '3'], ['3', '2012', '01', 'Suicide', '0', 'M', '60', 'White', '100', 'Other specified', '4'], ['4', '2012', '02', 'Suicide', '0', 'M', '64', 'White', '100', 'Home', '4']]\n"
     ]
    }
   ],
   "source": [
    "# Exploring a dataset of gun deaths in the USA\n",
    "import csv\n",
    "f = open(\"guns.csv\", 'r')\n",
    "dataset = csv.reader(f)\n",
    "data = list(dataset)\n",
    "print(data[0:5])"
   ]
  },
  {
   "cell_type": "code",
   "execution_count": 5,
   "metadata": {
    "collapsed": false
   },
   "outputs": [
    {
     "name": "stdout",
     "output_type": "stream",
     "text": [
      "['', 'year', 'month', 'intent', 'police', 'sex', 'age', 'race', 'hispanic', 'place', 'education']\n",
      "[['1', '2012', '01', 'Suicide', '0', 'M', '34', 'Asian/Pacific Islander', '100', 'Home', '4'], ['2', '2012', '01', 'Suicide', '0', 'F', '21', 'White', '100', 'Street', '3'], ['3', '2012', '01', 'Suicide', '0', 'M', '60', 'White', '100', 'Other specified', '4'], ['4', '2012', '02', 'Suicide', '0', 'M', '64', 'White', '100', 'Home', '4'], ['5', '2012', '02', 'Suicide', '0', 'M', '31', 'White', '100', 'Other specified', '2']]\n"
     ]
    }
   ],
   "source": [
    "# Splitting the header from the rest of the data\n",
    "headers = data[0]\n",
    "data = data[1:]\n",
    "print(headers)\n",
    "print(data[0:5])"
   ]
  },
  {
   "cell_type": "code",
   "execution_count": 6,
   "metadata": {
    "collapsed": false
   },
   "outputs": [
    {
     "name": "stdout",
     "output_type": "stream",
     "text": [
      "{'2013': 33636, '2014': 33599, '2012': 33563}\n"
     ]
    }
   ],
   "source": [
    "# Make a dictionary for every year in the dataset, and count all the deaths per year\n",
    "years = [col[1] for col in data]\n",
    "year_counts = {}\n",
    "for row in years:\n",
    "    if row not in year_counts:\n",
    "        year_counts[row] = 1\n",
    "    else:\n",
    "        year_counts[row] += 1\n",
    "print(year_counts)"
   ]
  },
  {
   "cell_type": "code",
   "execution_count": 7,
   "metadata": {
    "collapsed": false
   },
   "outputs": [
    {
     "name": "stdout",
     "output_type": "stream",
     "text": [
      "[datetime.datetime(2012, 1, 1, 0, 0), datetime.datetime(2012, 1, 1, 0, 0), datetime.datetime(2012, 1, 1, 0, 0), datetime.datetime(2012, 2, 1, 0, 0), datetime.datetime(2012, 2, 1, 0, 0)]\n"
     ]
    }
   ],
   "source": [
    "# Transforming the data about the month into a usable format to then explore further\n",
    "import datetime\n",
    "dates = [datetime.datetime(year=int(row[1]), month=int(row[2]), day=1) for row in data]\n",
    "print(dates[:5])"
   ]
  },
  {
   "cell_type": "code",
   "execution_count": 16,
   "metadata": {
    "collapsed": false
   },
   "outputs": [
    {
     "name": "stdout",
     "output_type": "stream",
     "text": [
      "{datetime.datetime(2012, 7, 1, 0, 0): 3027, datetime.datetime(2013, 7, 1, 0, 0): 3080, datetime.datetime(2014, 12, 1, 0, 0): 2858, datetime.datetime(2013, 12, 1, 0, 0): 2766, datetime.datetime(2013, 3, 1, 0, 0): 2863, datetime.datetime(2014, 9, 1, 0, 0): 2915, datetime.datetime(2012, 8, 1, 0, 0): 2955, datetime.datetime(2013, 2, 1, 0, 0): 2376, datetime.datetime(2012, 1, 1, 0, 0): 2759, datetime.datetime(2013, 9, 1, 0, 0): 2743, datetime.datetime(2013, 1, 1, 0, 0): 2865, datetime.datetime(2014, 6, 1, 0, 0): 2932, datetime.datetime(2013, 6, 1, 0, 0): 2921, datetime.datetime(2014, 4, 1, 0, 0): 2863, datetime.datetime(2012, 12, 1, 0, 0): 2792, datetime.datetime(2014, 5, 1, 0, 0): 2865, datetime.datetime(2012, 3, 1, 0, 0): 2744, datetime.datetime(2014, 11, 1, 0, 0): 2757, datetime.datetime(2012, 11, 1, 0, 0): 2730, datetime.datetime(2014, 3, 1, 0, 0): 2685, datetime.datetime(2013, 5, 1, 0, 0): 2807, datetime.datetime(2013, 10, 1, 0, 0): 2809, datetime.datetime(2012, 9, 1, 0, 0): 2853, datetime.datetime(2012, 6, 1, 0, 0): 2827, datetime.datetime(2012, 2, 1, 0, 0): 2358, datetime.datetime(2014, 1, 1, 0, 0): 2652, datetime.datetime(2014, 7, 1, 0, 0): 2885, datetime.datetime(2014, 2, 1, 0, 0): 2362, datetime.datetime(2012, 4, 1, 0, 0): 2796, datetime.datetime(2012, 5, 1, 0, 0): 3000, datetime.datetime(2013, 4, 1, 0, 0): 2799, datetime.datetime(2012, 10, 1, 0, 0): 2734, datetime.datetime(2013, 11, 1, 0, 0): 2759, datetime.datetime(2013, 8, 1, 0, 0): 2860, datetime.datetime(2014, 8, 1, 0, 0): 2971, datetime.datetime(2014, 10, 1, 0, 0): 2866}\n"
     ]
    }
   ],
   "source": [
    "# Display the number of deaths for each month from 2012 to 2014\n",
    "date_counts = {}\n",
    "for row in dates:\n",
    "    if row not in date_counts:\n",
    "        date_counts[row] = 1\n",
    "    date_counts[row] += 1\n",
    "print(date_counts)"
   ]
  },
  {
   "cell_type": "code",
   "execution_count": 8,
   "metadata": {
    "collapsed": false
   },
   "outputs": [
    {
     "name": "stdout",
     "output_type": "stream",
     "text": [
      "{'F': 14450, 'M': 86350}\n"
     ]
    }
   ],
   "source": [
    "# Create dictionary for gun deaths by gender\n",
    "sexes = [row[5] for row in data]\n",
    "sex_counts = {}\n",
    "for row in sexes:\n",
    "    if row not in sex_counts:\n",
    "        sex_counts[row] = 1\n",
    "    sex_counts[row] += 1\n",
    "print(sex_counts)"
   ]
  },
  {
   "cell_type": "code",
   "execution_count": 9,
   "metadata": {
    "collapsed": false
   },
   "outputs": [
    {
     "name": "stdout",
     "output_type": "stream",
     "text": [
      "{'White': 66238, 'Hispanic': 9023, 'Native American/Native Alaskan': 918, 'Asian/Pacific Islander': 1327, 'Black': 23297}\n"
     ]
    }
   ],
   "source": [
    "# Create dictionary for gun deaths by race\n",
    "races = [row[7] for row in data]\n",
    "race_counts = {}\n",
    "for row in races:\n",
    "    if row not in race_counts:\n",
    "        race_counts[row] = 1\n",
    "    race_counts[row] += 1\n",
    "print(race_counts)"
   ]
  },
  {
   "cell_type": "markdown",
   "metadata": {},
   "source": [
    "It is clear that most gun deaths are happening to Males, and in terms of race, most are White, followed by Blacks, and Hispanics."
   ]
  },
  {
   "cell_type": "code",
   "execution_count": 10,
   "metadata": {
    "collapsed": false,
    "scrolled": true
   },
   "outputs": [
    {
     "name": "stdout",
     "output_type": "stream",
     "text": [
      "[['Id', 'Year', 'Id', 'Sex', 'Id', 'Hispanic Origin', 'Id', 'Id2', 'Geography', 'Total', 'Race Alone - White', 'Race Alone - Hispanic', 'Race Alone - Black or African American', 'Race Alone - American Indian and Alaska Native', 'Race Alone - Asian', 'Race Alone - Native Hawaiian and Other Pacific Islander', 'Two or More Races'], ['cen42010', 'April 1, 2010 Census', 'totsex', 'Both Sexes', 'tothisp', 'Total', '0100000US', '', 'United States', '308745538', '197318956', '44618105', '40250635', '3739506', '15159516', '674625', '6984195']]\n"
     ]
    }
   ],
   "source": [
    "# Importing some census data in order to further our analysis\n",
    "import csv\n",
    "f = open(\"census.csv\", 'r')\n",
    "census = list(csv.reader(f))\n",
    "print(census)"
   ]
  },
  {
   "cell_type": "code",
   "execution_count": 11,
   "metadata": {
    "collapsed": false
   },
   "outputs": [
    {
     "data": {
      "text/plain": [
       "{'Asian/Pacific Islander': 8.380625131480135,\n",
       " 'Black': 57.87983220637389,\n",
       " 'Hispanic': 20.222732453563413,\n",
       " 'Native American/Native Alaskan': 24.548697073891578,\n",
       " 'White': 33.568999827872595}"
      ]
     },
     "execution_count": 11,
     "metadata": {},
     "output_type": "execute_result"
    }
   ],
   "source": [
    "# Creating a dictionary mapping the population for each race category\n",
    "mapping = {\n",
    "    \"Asian/Pacific Islander\": 15159516 + 674625,\n",
    "    \"Native American/Native Alaskan\": 3739506,\n",
    "    \"Black\": 40250635,\n",
    "    \"Hispanic\": 44618105,\n",
    "    \"White\": 197318956\n",
    "}\n",
    "\n",
    "# Calculating the number of deaths per 100,000 people for each race\n",
    "race_per_hundredk = {}\n",
    "for k,v in race_counts.items():\n",
    "    race_per_hundredk[k] = (v / mapping[k]) * 100000\n",
    "\n",
    "race_per_hundredk"
   ]
  },
  {
   "cell_type": "code",
   "execution_count": 12,
   "metadata": {
    "collapsed": false
   },
   "outputs": [
    {
     "name": "stdout",
     "output_type": "stream",
     "text": [
      "{'White': 9147, 'Hispanic': 5634, 'Native American/Native Alaskan': 326, 'Asian/Pacific Islander': 559, 'Black': 19510}\n"
     ]
    }
   ],
   "source": [
    "# Create a dictionary of the number of homicides per race category\n",
    "intents = [row[3] for row in data]\n",
    "races = [row[7] for row in data]\n",
    "homicide_race_counts = {}\n",
    "for i,race in enumerate(races):\n",
    "    if race not in homicide_race_counts:\n",
    "        homicide_race_counts[race] = 0\n",
    "    if intents[i] == \"Homicide\":\n",
    "        homicide_race_counts[race] += 1\n",
    "print(homicide_race_counts)   \n",
    "        "
   ]
  },
  {
   "cell_type": "code",
   "execution_count": 13,
   "metadata": {
    "collapsed": false
   },
   "outputs": [
    {
     "data": {
      "text/plain": [
       "{'Asian/Pacific Islander': 3.530346230970155,\n",
       " 'Black': 48.471284987180944,\n",
       " 'Hispanic': 12.627161104219914,\n",
       " 'Native American/Native Alaskan': 8.717729026240365,\n",
       " 'White': 4.6356417981453335}"
      ]
     },
     "execution_count": 13,
     "metadata": {},
     "output_type": "execute_result"
    }
   ],
   "source": [
    "# Calculating the homicide rate per 100,000 for each race\n",
    "race_per_hundredk = {}\n",
    "for k,v in homicide_race_counts.items():\n",
    "    race_per_hundredk[k] = (v / mapping[k]) * 100000\n",
    "\n",
    "race_per_hundredk"
   ]
  },
  {
   "cell_type": "markdown",
   "metadata": {},
   "source": [
    "Looking at the homicide rate per 100,000 people, it is clear that Blacks have a disproportionate homicide rate, as compared to other races.  It is 4 times higher than the second highest rate, which is for Hispanics."
   ]
  },
  {
   "cell_type": "code",
   "execution_count": 23,
   "metadata": {
    "collapsed": false
   },
   "outputs": [
    {
     "name": "stdout",
     "output_type": "stream",
     "text": [
      "{'3': 21681, '5': 1370, '4': 12947, '1': 21824, 'NA': 54, '2': 42928}\n",
      "86433\n",
      "14317\n"
     ]
    }
   ],
   "source": [
    "# Exploring the number of gun deaths by education level\n",
    "\n",
    "education = [row[10] for row in data]\n",
    "education_counts = {}\n",
    "for row in education:\n",
    "    if row not in education_counts:\n",
    "        education_counts[row] = 1\n",
    "    education_counts[row] += 1\n",
    "print(education_counts)\n",
    "low_education = education_counts[\"1\"] + education_counts[\"2\"] + education_counts[\"3\"]  \n",
    "print(low_education)\n",
    "high_education = education_counts[\"4\"] + education_counts[\"5\"] \n",
    "print(high_education)"
   ]
  },
  {
   "cell_type": "markdown",
   "metadata": {},
   "source": [
    "There are almost 6 times more gun deaths of low educated people than there are from high educated people."
   ]
  },
  {
   "cell_type": "code",
   "execution_count": 27,
   "metadata": {
    "collapsed": false
   },
   "outputs": [
    {
     "name": "stdout",
     "output_type": "stream",
     "text": [
      "{'NA': 1384, 'Home': 60486, 'Industrial/construction': 248, 'Other specified': 13751, 'Other unspecified': 8867, 'Street': 11151, 'Farm': 470, 'Trade/service area': 3439, 'Sports': 128, 'Residential institution': 203, 'School/instiution': 671}\n",
      "0.6000714299886902\n"
     ]
    }
   ],
   "source": [
    "# Exploring the number of gun deaths by location\n",
    "\n",
    "location = [row[9] for row in data]\n",
    "location_counts = {}\n",
    "for row in location:\n",
    "    if row not in location_counts:\n",
    "        location_counts[row] = 1\n",
    "    else:\n",
    "        location_counts[row] += 1\n",
    "print(location_counts)\n",
    "home_deaths_ratio = location_counts[\"Home\"] / len(data)\n",
    "print(home_deaths_ratio)"
   ]
  },
  {
   "cell_type": "markdown",
   "metadata": {},
   "source": [
    "Most gun deaths happen at home, according to this data, 60% to be exact."
   ]
  },
  {
   "cell_type": "code",
   "execution_count": 29,
   "metadata": {
    "collapsed": false
   },
   "outputs": [
    {
     "name": "stdout",
     "output_type": "stream",
     "text": [
      "{'06': 8677, '03': 8289, '04': 8455, '07': 8989, '01': 8273, '08': 8783, '11': 8243, '05': 8669, '12': 8413, '10': 8406, '09': 8508, '02': 7093}\n"
     ]
    }
   ],
   "source": [
    "# An easy way to calculate the number of gun deaths for each month of the year\n",
    "\n",
    "month = [row[2] for row in data]\n",
    "month_counts = {}\n",
    "\n",
    "for row in month:\n",
    "    if row not in month_counts:\n",
    "        month_counts[row] = 1\n",
    "    else:\n",
    "        month_counts[row] += 1\n",
    "print(month_counts)"
   ]
  },
  {
   "cell_type": "code",
   "execution_count": 30,
   "metadata": {
    "collapsed": false
   },
   "outputs": [
    {
     "name": "stdout",
     "output_type": "stream",
     "text": [
      "{'06': 3130, '03': 2780, '04': 2845, '07': 3269, '01': 2829, '08': 3125, '11': 2919, '05': 2976, '12': 3191, '10': 2968, '09': 2966, '02': 2178}\n"
     ]
    }
   ],
   "source": [
    "# Exploring the number of homicides per month of the year\n",
    "\n",
    "intents = [row[3] for row in data]\n",
    "homicide_month_counts = {}\n",
    "for i,mth in enumerate(month):\n",
    "    if mth not in homicide_month_counts:\n",
    "        homicide_month_counts[mth] = 0\n",
    "    if intents[i] == \"Homicide\":\n",
    "        homicide_month_counts[mth] += 1\n",
    "print(homicide_month_counts)   "
   ]
  },
  {
   "cell_type": "code",
   "execution_count": 34,
   "metadata": {
    "collapsed": false
   },
   "outputs": [
    {
     "name": "stdout",
     "output_type": "stream",
     "text": [
      "9524\n",
      "8601\n",
      "8853\n",
      "8198\n",
      "0.07579351632215069\n",
      "0.16174676750426933\n"
     ]
    }
   ],
   "source": [
    "# Exploring the number of homicides according to the season of the year\n",
    "\n",
    "summer = homicide_month_counts[\"06\"] + homicide_month_counts[\"07\"] + homicide_month_counts[\"08\"]\n",
    "print(summer)\n",
    "spring = homicide_month_counts[\"03\"] + homicide_month_counts[\"04\"] + homicide_month_counts[\"05\"]\n",
    "print(spring)\n",
    "fall = homicide_month_counts[\"09\"] + homicide_month_counts[\"10\"] + homicide_month_counts[\"11\"]\n",
    "print(fall)\n",
    "winter = homicide_month_counts[\"12\"] + homicide_month_counts[\"01\"] + homicide_month_counts[\"02\"]\n",
    "print(winter)\n",
    "summer_ratio = (summer-fall)/fall\n",
    "print(summer_ratio)\n",
    "summer_ratio2 = (summer-winter)/winter\n",
    "print(summer_ratio2)"
   ]
  },
  {
   "cell_type": "markdown",
   "metadata": {},
   "source": [
    "There are more homicides happening in the summer, between 7.5% and 16% more than other seasons.  There are less homicides in the winter months."
   ]
  },
  {
   "cell_type": "code",
   "execution_count": null,
   "metadata": {
    "collapsed": true
   },
   "outputs": [],
   "source": []
  }
 ],
 "metadata": {
  "kernelspec": {
   "display_name": "Python 3",
   "language": "python",
   "name": "python3"
  },
  "language_info": {
   "codemirror_mode": {
    "name": "ipython",
    "version": 3
   },
   "file_extension": ".py",
   "mimetype": "text/x-python",
   "name": "python",
   "nbconvert_exporter": "python",
   "pygments_lexer": "ipython3",
   "version": "3.4.3"
  }
 },
 "nbformat": 4,
 "nbformat_minor": 0
}
