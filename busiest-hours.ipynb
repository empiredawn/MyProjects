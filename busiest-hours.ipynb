{
 "cells": [
  {
   "cell_type": "code",
   "execution_count": null,
   "metadata": {
    "collapsed": true
   },
   "outputs": [],
   "source": [
    "# this script is to show which hours of the day have the most submissions in a dataset\n",
    "\n",
    "import pandas as pd\n",
    "from dateutil.parser import parse\n",
    "from datetime import datetime\n",
    "import collections\n",
    "\n",
    "df = pd.read_csv(\"hn_stories.csv\")\n",
    "df.columns = [\"submission_time\", \"upvotes\", \"url\", \"headline\"]\n",
    "\n",
    "# we create a list, parse the date into a datetime object for each row, and append it to list\n",
    "fun = []\n",
    "for i in df['submission_time']:\n",
    "    c = parse(i)\n",
    "    fun.append(c.hour)\n",
    "    \n",
    "# This shows the most popular hours via a counter\n",
    "cl = collections.Counter(fun)\n",
    "print(cl)\n",
    "\n",
    "# this shows the most popular hours via an added column to our existing dataframe\n",
    "df['hour'] = fun\n",
    "print(df['hour'].value_counts())\n",
    "    \n",
    "    \n",
    "    \n",
    "\n",
    "    \n"
   ]
  }
 ],
 "metadata": {
  "kernelspec": {
   "display_name": "Python 3",
   "language": "python",
   "name": "python3"
  },
  "language_info": {
   "codemirror_mode": {
    "name": "ipython",
    "version": 3
   },
   "file_extension": ".py",
   "mimetype": "text/x-python",
   "name": "python",
   "nbconvert_exporter": "python",
   "pygments_lexer": "ipython3",
   "version": "3.6.0"
  }
 },
 "nbformat": 4,
 "nbformat_minor": 2
}
